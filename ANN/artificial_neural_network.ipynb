{
 "cells": [
  {
   "cell_type": "markdown",
   "metadata": {
    "colab_type": "text",
    "id": "lP6JLo1tGNBg"
   },
   "source": [
    "# Artificial Neural Network"
   ]
  },
  {
   "cell_type": "markdown",
   "metadata": {
    "colab_type": "text",
    "id": "gWZyYmS_UE_L"
   },
   "source": [
    "### Importing the libraries"
   ]
  },
  {
   "cell_type": "code",
   "execution_count": 1,
   "metadata": {
    "colab": {},
    "colab_type": "code",
    "id": "MxkJoQBkUIHC"
   },
   "outputs": [
    {
     "name": "stderr",
     "output_type": "stream",
     "text": [
      "C:\\Users\\91955\\anaconda3\\lib\\site-packages\\tensorflow\\python\\framework\\dtypes.py:526: FutureWarning: Passing (type, 1) or '1type' as a synonym of type is deprecated; in a future version of numpy, it will be understood as (type, (1,)) / '(1,)type'.\n",
      "  _np_qint8 = np.dtype([(\"qint8\", np.int8, 1)])\n",
      "C:\\Users\\91955\\anaconda3\\lib\\site-packages\\tensorflow\\python\\framework\\dtypes.py:527: FutureWarning: Passing (type, 1) or '1type' as a synonym of type is deprecated; in a future version of numpy, it will be understood as (type, (1,)) / '(1,)type'.\n",
      "  _np_quint8 = np.dtype([(\"quint8\", np.uint8, 1)])\n",
      "C:\\Users\\91955\\anaconda3\\lib\\site-packages\\tensorflow\\python\\framework\\dtypes.py:528: FutureWarning: Passing (type, 1) or '1type' as a synonym of type is deprecated; in a future version of numpy, it will be understood as (type, (1,)) / '(1,)type'.\n",
      "  _np_qint16 = np.dtype([(\"qint16\", np.int16, 1)])\n",
      "C:\\Users\\91955\\anaconda3\\lib\\site-packages\\tensorflow\\python\\framework\\dtypes.py:529: FutureWarning: Passing (type, 1) or '1type' as a synonym of type is deprecated; in a future version of numpy, it will be understood as (type, (1,)) / '(1,)type'.\n",
      "  _np_quint16 = np.dtype([(\"quint16\", np.uint16, 1)])\n",
      "C:\\Users\\91955\\anaconda3\\lib\\site-packages\\tensorflow\\python\\framework\\dtypes.py:530: FutureWarning: Passing (type, 1) or '1type' as a synonym of type is deprecated; in a future version of numpy, it will be understood as (type, (1,)) / '(1,)type'.\n",
      "  _np_qint32 = np.dtype([(\"qint32\", np.int32, 1)])\n",
      "C:\\Users\\91955\\anaconda3\\lib\\site-packages\\tensorflow\\python\\framework\\dtypes.py:535: FutureWarning: Passing (type, 1) or '1type' as a synonym of type is deprecated; in a future version of numpy, it will be understood as (type, (1,)) / '(1,)type'.\n",
      "  np_resource = np.dtype([(\"resource\", np.ubyte, 1)])\n"
     ]
    }
   ],
   "source": [
    "import numpy as np\n",
    "import pandas as pd\n",
    "import tensorflow as tf"
   ]
  },
  {
   "cell_type": "code",
   "execution_count": 2,
   "metadata": {
    "colab": {
     "base_uri": "https://localhost:8080/",
     "height": 34
    },
    "colab_type": "code",
    "executionInfo": {
     "elapsed": 2787,
     "status": "ok",
     "timestamp": 1586428376540,
     "user": {
      "displayName": "Hadelin de Ponteves",
      "photoUrl": "https://lh3.googleusercontent.com/a-/AOh14GhEuXdT7eQweUmRPW8_laJuPggSK6hfvpl5a6WBaA=s64",
      "userId": "15047218817161520419"
     },
     "user_tz": -240
    },
    "id": "ZaTwK7ojXr2F",
    "outputId": "9991cc2b-cd5d-4e1e-c681-d32b9f4faa9a"
   },
   "outputs": [
    {
     "data": {
      "text/plain": [
       "'1.13.1'"
      ]
     },
     "execution_count": 2,
     "metadata": {},
     "output_type": "execute_result"
    }
   ],
   "source": [
    "tf.__version__"
   ]
  },
  {
   "cell_type": "markdown",
   "metadata": {
    "colab_type": "text",
    "id": "1E0Q3aoKUCRX"
   },
   "source": [
    "## Part 1 - Data Preprocessing"
   ]
  },
  {
   "cell_type": "markdown",
   "metadata": {
    "colab_type": "text",
    "id": "cKWAkFVGUU0Z"
   },
   "source": [
    "### Importing the dataset"
   ]
  },
  {
   "cell_type": "code",
   "execution_count": 3,
   "metadata": {
    "colab": {},
    "colab_type": "code",
    "id": "MXUkhkMfU4wq"
   },
   "outputs": [],
   "source": [
    "dataset = pd.read_csv('Churn_Modelling.csv')\n",
    "X = dataset.iloc[:, 3:-1].values\n",
    "y = dataset.iloc[:, -1].values"
   ]
  },
  {
   "cell_type": "code",
   "execution_count": 4,
   "metadata": {
    "colab": {
     "base_uri": "https://localhost:8080/",
     "height": 134
    },
    "colab_type": "code",
    "executionInfo": {
     "elapsed": 2782,
     "status": "ok",
     "timestamp": 1586428376541,
     "user": {
      "displayName": "Hadelin de Ponteves",
      "photoUrl": "https://lh3.googleusercontent.com/a-/AOh14GhEuXdT7eQweUmRPW8_laJuPggSK6hfvpl5a6WBaA=s64",
      "userId": "15047218817161520419"
     },
     "user_tz": -240
    },
    "id": "VYP9cQTWbzuI",
    "outputId": "38e3588f-f2e3-436b-bdc5-2967d495155c"
   },
   "outputs": [
    {
     "name": "stdout",
     "output_type": "stream",
     "text": [
      "[[619 'France' 'Female' ... 1 1 101348.88]\n",
      " [608 'Spain' 'Female' ... 0 1 112542.58]\n",
      " [502 'France' 'Female' ... 1 0 113931.57]\n",
      " ...\n",
      " [709 'France' 'Female' ... 0 1 42085.58]\n",
      " [772 'Germany' 'Male' ... 1 0 92888.52]\n",
      " [792 'France' 'Female' ... 1 0 38190.78]]\n"
     ]
    }
   ],
   "source": [
    "print(X)"
   ]
  },
  {
   "cell_type": "code",
   "execution_count": 5,
   "metadata": {
    "colab": {
     "base_uri": "https://localhost:8080/",
     "height": 34
    },
    "colab_type": "code",
    "executionInfo": {
     "elapsed": 2780,
     "status": "ok",
     "timestamp": 1586428376541,
     "user": {
      "displayName": "Hadelin de Ponteves",
      "photoUrl": "https://lh3.googleusercontent.com/a-/AOh14GhEuXdT7eQweUmRPW8_laJuPggSK6hfvpl5a6WBaA=s64",
      "userId": "15047218817161520419"
     },
     "user_tz": -240
    },
    "id": "38vKGE6Nb2RR",
    "outputId": "2abeb945-135e-460f-99e9-9967abe198d1"
   },
   "outputs": [
    {
     "name": "stdout",
     "output_type": "stream",
     "text": [
      "[1 0 1 ... 1 1 0]\n"
     ]
    }
   ],
   "source": [
    "print(y)"
   ]
  },
  {
   "cell_type": "markdown",
   "metadata": {
    "colab_type": "text",
    "id": "N6bQ0UgSU-NJ"
   },
   "source": [
    "### Encoding categorical data"
   ]
  },
  {
   "cell_type": "markdown",
   "metadata": {
    "colab_type": "text",
    "id": "le5MJreAbW52"
   },
   "source": [
    "Label Encoding the \"Gender\" column"
   ]
  },
  {
   "cell_type": "code",
   "execution_count": 6,
   "metadata": {
    "colab": {},
    "colab_type": "code",
    "id": "PxVKWXxLbczC"
   },
   "outputs": [],
   "source": [
    "from sklearn.preprocessing import LabelEncoder\n",
    "le = LabelEncoder()\n",
    "X[:, 2] = le.fit_transform(X[:, 2])"
   ]
  },
  {
   "cell_type": "code",
   "execution_count": 7,
   "metadata": {
    "colab": {
     "base_uri": "https://localhost:8080/",
     "height": 134
    },
    "colab_type": "code",
    "executionInfo": {
     "elapsed": 2775,
     "status": "ok",
     "timestamp": 1586428376542,
     "user": {
      "displayName": "Hadelin de Ponteves",
      "photoUrl": "https://lh3.googleusercontent.com/a-/AOh14GhEuXdT7eQweUmRPW8_laJuPggSK6hfvpl5a6WBaA=s64",
      "userId": "15047218817161520419"
     },
     "user_tz": -240
    },
    "id": "-M1KboxFb6OO",
    "outputId": "c7b742e2-7afb-4fb9-c6b4-ffeb3c4812f1"
   },
   "outputs": [
    {
     "name": "stdout",
     "output_type": "stream",
     "text": [
      "[[619 'France' 0 ... 1 1 101348.88]\n",
      " [608 'Spain' 0 ... 0 1 112542.58]\n",
      " [502 'France' 0 ... 1 0 113931.57]\n",
      " ...\n",
      " [709 'France' 0 ... 0 1 42085.58]\n",
      " [772 'Germany' 1 ... 1 0 92888.52]\n",
      " [792 'France' 0 ... 1 0 38190.78]]\n"
     ]
    }
   ],
   "source": [
    "print(X)"
   ]
  },
  {
   "cell_type": "markdown",
   "metadata": {
    "colab_type": "text",
    "id": "CUxGZezpbMcb"
   },
   "source": [
    "One Hot Encoding the \"Geography\" column"
   ]
  },
  {
   "cell_type": "code",
   "execution_count": 8,
   "metadata": {
    "colab": {},
    "colab_type": "code",
    "id": "AMXC8-KMVirw"
   },
   "outputs": [],
   "source": [
    "from sklearn.compose import ColumnTransformer\n",
    "from sklearn.preprocessing import OneHotEncoder\n",
    "ct = ColumnTransformer(transformers=[('encoder', OneHotEncoder(), [1])], remainder='passthrough')\n",
    "X = np.array(ct.fit_transform(X))"
   ]
  },
  {
   "cell_type": "code",
   "execution_count": 9,
   "metadata": {
    "colab": {
     "base_uri": "https://localhost:8080/",
     "height": 134
    },
    "colab_type": "code",
    "executionInfo": {
     "elapsed": 2768,
     "status": "ok",
     "timestamp": 1586428376543,
     "user": {
      "displayName": "Hadelin de Ponteves",
      "photoUrl": "https://lh3.googleusercontent.com/a-/AOh14GhEuXdT7eQweUmRPW8_laJuPggSK6hfvpl5a6WBaA=s64",
      "userId": "15047218817161520419"
     },
     "user_tz": -240
    },
    "id": "ZcxwEon-b8nV",
    "outputId": "9c88c069-f799-4e3b-be4b-24d8e17611fd"
   },
   "outputs": [
    {
     "name": "stdout",
     "output_type": "stream",
     "text": [
      "[[1.0 0.0 0.0 ... 1 1 101348.88]\n",
      " [0.0 0.0 1.0 ... 0 1 112542.58]\n",
      " [1.0 0.0 0.0 ... 1 0 113931.57]\n",
      " ...\n",
      " [1.0 0.0 0.0 ... 0 1 42085.58]\n",
      " [0.0 1.0 0.0 ... 1 0 92888.52]\n",
      " [1.0 0.0 0.0 ... 1 0 38190.78]]\n"
     ]
    }
   ],
   "source": [
    "print(X)"
   ]
  },
  {
   "cell_type": "markdown",
   "metadata": {
    "colab_type": "text",
    "id": "RE_FcHyfV3TQ"
   },
   "source": [
    "### Feature Scaling"
   ]
  },
  {
   "cell_type": "code",
   "execution_count": 10,
   "metadata": {
    "colab": {},
    "colab_type": "code",
    "id": "ViCrE00rV8Sk"
   },
   "outputs": [],
   "source": [
    "from sklearn.preprocessing import StandardScaler\n",
    "sc = StandardScaler()\n",
    "X = sc.fit_transform(X)"
   ]
  },
  {
   "cell_type": "code",
   "execution_count": 11,
   "metadata": {
    "colab": {
     "base_uri": "https://localhost:8080/",
     "height": 235
    },
    "colab_type": "code",
    "executionInfo": {
     "elapsed": 2760,
     "status": "ok",
     "timestamp": 1586428376544,
     "user": {
      "displayName": "Hadelin de Ponteves",
      "photoUrl": "https://lh3.googleusercontent.com/a-/AOh14GhEuXdT7eQweUmRPW8_laJuPggSK6hfvpl5a6WBaA=s64",
      "userId": "15047218817161520419"
     },
     "user_tz": -240
    },
    "id": "De3UsJwXdfMz",
    "outputId": "dde0e114-7250-42b5-d54d-047faebba5e1"
   },
   "outputs": [
    {
     "name": "stdout",
     "output_type": "stream",
     "text": [
      "[[ 0.99720391 -0.57873591 -0.57380915 ...  0.64609167  0.97024255\n",
      "   0.02188649]\n",
      " [-1.00280393 -0.57873591  1.74273971 ... -1.54776799  0.97024255\n",
      "   0.21653375]\n",
      " [ 0.99720391 -0.57873591 -0.57380915 ...  0.64609167 -1.03067011\n",
      "   0.2406869 ]\n",
      " ...\n",
      " [ 0.99720391 -0.57873591 -0.57380915 ... -1.54776799  0.97024255\n",
      "  -1.00864308]\n",
      " [-1.00280393  1.72790383 -0.57380915 ...  0.64609167 -1.03067011\n",
      "  -0.12523071]\n",
      " [ 0.99720391 -0.57873591 -0.57380915 ...  0.64609167 -1.03067011\n",
      "  -1.07636976]]\n"
     ]
    }
   ],
   "source": [
    "print(X)"
   ]
  },
  {
   "cell_type": "markdown",
   "metadata": {
    "colab_type": "text",
    "id": "vHol938cW8zd"
   },
   "source": [
    "### Splitting the dataset into the Training set and Test set"
   ]
  },
  {
   "cell_type": "code",
   "execution_count": 12,
   "metadata": {
    "colab": {},
    "colab_type": "code",
    "id": "Z-TDt0Y_XEfc"
   },
   "outputs": [],
   "source": [
    "from sklearn.model_selection import train_test_split\n",
    "X_train, X_test, y_train, y_test = train_test_split(X, y, test_size = 0.2, random_state = 0)"
   ]
  },
  {
   "cell_type": "markdown",
   "metadata": {
    "colab_type": "text",
    "id": "-zfEzkRVXIwF"
   },
   "source": [
    "## Part 2 - Building the ANN"
   ]
  },
  {
   "cell_type": "markdown",
   "metadata": {
    "colab_type": "text",
    "id": "KvdeScabXtlB"
   },
   "source": [
    "### Initializing the ANN"
   ]
  },
  {
   "cell_type": "code",
   "execution_count": 13,
   "metadata": {
    "colab": {},
    "colab_type": "code",
    "id": "3dtrScHxXQox"
   },
   "outputs": [],
   "source": [
    "ann = tf.keras.models.Sequential()"
   ]
  },
  {
   "cell_type": "markdown",
   "metadata": {
    "colab_type": "text",
    "id": "rP6urV6SX7kS"
   },
   "source": [
    "### Adding the input layer and the first hidden layer"
   ]
  },
  {
   "cell_type": "code",
   "execution_count": 14,
   "metadata": {
    "colab": {},
    "colab_type": "code",
    "id": "bppGycBXYCQr"
   },
   "outputs": [],
   "source": [
    "ann.add(tf.keras.layers.Dense(units=6, activation='relu'))"
   ]
  },
  {
   "cell_type": "markdown",
   "metadata": {
    "colab_type": "text",
    "id": "BELWAc_8YJze"
   },
   "source": [
    "### Adding the second hidden layer"
   ]
  },
  {
   "cell_type": "code",
   "execution_count": 15,
   "metadata": {
    "colab": {},
    "colab_type": "code",
    "id": "JneR0u0sYRTd"
   },
   "outputs": [],
   "source": [
    "ann.add(tf.keras.layers.Dense(units=6, activation='relu'))"
   ]
  },
  {
   "cell_type": "markdown",
   "metadata": {
    "colab_type": "text",
    "id": "OyNEe6RXYcU4"
   },
   "source": [
    "### Adding the output layer"
   ]
  },
  {
   "cell_type": "code",
   "execution_count": 16,
   "metadata": {
    "colab": {},
    "colab_type": "code",
    "id": "Cn3x41RBYfvY"
   },
   "outputs": [],
   "source": [
    "ann.add(tf.keras.layers.Dense(units=1, activation='sigmoid'))"
   ]
  },
  {
   "cell_type": "markdown",
   "metadata": {
    "colab_type": "text",
    "id": "JT4u2S1_Y4WG"
   },
   "source": [
    "## Training the ANN"
   ]
  },
  {
   "cell_type": "markdown",
   "metadata": {
    "colab_type": "text",
    "id": "8GWlJChhY_ZI"
   },
   "source": [
    "### Compiling the ANN"
   ]
  },
  {
   "cell_type": "code",
   "execution_count": 17,
   "metadata": {
    "colab": {},
    "colab_type": "code",
    "id": "fG3RrwDXZEaS"
   },
   "outputs": [
    {
     "name": "stdout",
     "output_type": "stream",
     "text": [
      "WARNING:tensorflow:From C:\\Users\\91955\\anaconda3\\lib\\site-packages\\tensorflow\\python\\ops\\resource_variable_ops.py:435: colocate_with (from tensorflow.python.framework.ops) is deprecated and will be removed in a future version.\n",
      "Instructions for updating:\n",
      "Colocations handled automatically by placer.\n"
     ]
    }
   ],
   "source": [
    "ann.compile(optimizer = 'adam', loss = 'binary_crossentropy', metrics = ['accuracy'])"
   ]
  },
  {
   "cell_type": "markdown",
   "metadata": {
    "colab_type": "text",
    "id": "0QR_G5u7ZLSM"
   },
   "source": [
    "### Training the ANN on the Training set"
   ]
  },
  {
   "cell_type": "code",
   "execution_count": 18,
   "metadata": {
    "colab": {
     "base_uri": "https://localhost:8080/",
     "height": 1000
    },
    "colab_type": "code",
    "executionInfo": {
     "elapsed": 31750,
     "status": "ok",
     "timestamp": 1586428405580,
     "user": {
      "displayName": "Hadelin de Ponteves",
      "photoUrl": "https://lh3.googleusercontent.com/a-/AOh14GhEuXdT7eQweUmRPW8_laJuPggSK6hfvpl5a6WBaA=s64",
      "userId": "15047218817161520419"
     },
     "user_tz": -240
    },
    "id": "nHZ-LKv_ZRb3",
    "outputId": "6a90f176-803d-4b03-e65f-c05bda6f519c"
   },
   "outputs": [
    {
     "name": "stdout",
     "output_type": "stream",
     "text": [
      "WARNING:tensorflow:From C:\\Users\\91955\\anaconda3\\lib\\site-packages\\tensorflow\\python\\ops\\math_ops.py:3066: to_int32 (from tensorflow.python.ops.math_ops) is deprecated and will be removed in a future version.\n",
      "Instructions for updating:\n",
      "Use tf.cast instead.\n",
      "Epoch 1/100\n",
      "8000/8000 [==============================] - 1s 140us/sample - loss: 0.5352 - acc: 0.7960\n",
      "Epoch 2/100\n",
      "8000/8000 [==============================] - 0s 43us/sample - loss: 0.4697 - acc: 0.7960\n",
      "Epoch 3/100\n",
      "8000/8000 [==============================] - 0s 43us/sample - loss: 0.4482 - acc: 0.7960\n",
      "Epoch 4/100\n",
      "8000/8000 [==============================] - 0s 46us/sample - loss: 0.4364 - acc: 0.7964\n",
      "Epoch 5/100\n",
      "8000/8000 [==============================] - 0s 43us/sample - loss: 0.4283 - acc: 0.8085\n",
      "Epoch 6/100\n",
      "8000/8000 [==============================] - 0s 44us/sample - loss: 0.4217 - acc: 0.8219\n",
      "Epoch 7/100\n",
      "8000/8000 [==============================] - 0s 44us/sample - loss: 0.4170 - acc: 0.8271\n",
      "Epoch 8/100\n",
      "8000/8000 [==============================] - 0s 54us/sample - loss: 0.4136 - acc: 0.8294\n",
      "Epoch 9/100\n",
      "8000/8000 [==============================] - 0s 54us/sample - loss: 0.4113 - acc: 0.8306\n",
      "Epoch 10/100\n",
      "8000/8000 [==============================] - 0s 49us/sample - loss: 0.4090 - acc: 0.8299\n",
      "Epoch 11/100\n",
      "8000/8000 [==============================] - 0s 41us/sample - loss: 0.4073 - acc: 0.8320\n",
      "Epoch 12/100\n",
      "8000/8000 [==============================] - 0s 50us/sample - loss: 0.4057 - acc: 0.8320\n",
      "Epoch 13/100\n",
      "8000/8000 [==============================] - 0s 41us/sample - loss: 0.4044 - acc: 0.8328\n",
      "Epoch 14/100\n",
      "8000/8000 [==============================] - 0s 43us/sample - loss: 0.4038 - acc: 0.8332\n",
      "Epoch 15/100\n",
      "8000/8000 [==============================] - 0s 43us/sample - loss: 0.4032 - acc: 0.8340\n",
      "Epoch 16/100\n",
      "8000/8000 [==============================] - 0s 45us/sample - loss: 0.4023 - acc: 0.8342\n",
      "Epoch 17/100\n",
      "8000/8000 [==============================] - 0s 39us/sample - loss: 0.4016 - acc: 0.8354\n",
      "Epoch 18/100\n",
      "8000/8000 [==============================] - 0s 40us/sample - loss: 0.4010 - acc: 0.8357\n",
      "Epoch 19/100\n",
      "8000/8000 [==============================] - 0s 39us/sample - loss: 0.4006 - acc: 0.8360\n",
      "Epoch 20/100\n",
      "8000/8000 [==============================] - 0s 43us/sample - loss: 0.3997 - acc: 0.8359\n",
      "Epoch 21/100\n",
      "8000/8000 [==============================] - 0s 38us/sample - loss: 0.3993 - acc: 0.8366\n",
      "Epoch 22/100\n",
      "8000/8000 [==============================] - 0s 40us/sample - loss: 0.3994 - acc: 0.8363\n",
      "Epoch 23/100\n",
      "8000/8000 [==============================] - 0s 44us/sample - loss: 0.3988 - acc: 0.8366\n",
      "Epoch 24/100\n",
      "8000/8000 [==============================] - 0s 41us/sample - loss: 0.3984 - acc: 0.8370\n",
      "Epoch 25/100\n",
      "8000/8000 [==============================] - 0s 44us/sample - loss: 0.3982 - acc: 0.8366\n",
      "Epoch 26/100\n",
      "8000/8000 [==============================] - 0s 41us/sample - loss: 0.3978 - acc: 0.8365\n",
      "Epoch 27/100\n",
      "8000/8000 [==============================] - 0s 41us/sample - loss: 0.3975 - acc: 0.8367\n",
      "Epoch 28/100\n",
      "8000/8000 [==============================] - 0s 42us/sample - loss: 0.3969 - acc: 0.8367\n",
      "Epoch 29/100\n",
      "8000/8000 [==============================] - 0s 40us/sample - loss: 0.3968 - acc: 0.8371\n",
      "Epoch 30/100\n",
      "8000/8000 [==============================] - 0s 39us/sample - loss: 0.3965 - acc: 0.8375\n",
      "Epoch 31/100\n",
      "8000/8000 [==============================] - 0s 42us/sample - loss: 0.3957 - acc: 0.8378\n",
      "Epoch 32/100\n",
      "8000/8000 [==============================] - 0s 45us/sample - loss: 0.3949 - acc: 0.8384\n",
      "Epoch 33/100\n",
      "8000/8000 [==============================] - 0s 45us/sample - loss: 0.3943 - acc: 0.8384\n",
      "Epoch 34/100\n",
      "8000/8000 [==============================] - 0s 48us/sample - loss: 0.3933 - acc: 0.8395\n",
      "Epoch 35/100\n",
      "8000/8000 [==============================] - 0s 43us/sample - loss: 0.3923 - acc: 0.8397\n",
      "Epoch 36/100\n",
      "8000/8000 [==============================] - 0s 44us/sample - loss: 0.3916 - acc: 0.8409\n",
      "Epoch 37/100\n",
      "8000/8000 [==============================] - 0s 48us/sample - loss: 0.3906 - acc: 0.8403\n",
      "Epoch 38/100\n",
      "8000/8000 [==============================] - 0s 47us/sample - loss: 0.3891 - acc: 0.8406\n",
      "Epoch 39/100\n",
      "8000/8000 [==============================] - 0s 48us/sample - loss: 0.3876 - acc: 0.8426\n",
      "Epoch 40/100\n",
      "8000/8000 [==============================] - 0s 52us/sample - loss: 0.3856 - acc: 0.8436\n",
      "Epoch 41/100\n",
      "8000/8000 [==============================] - 0s 56us/sample - loss: 0.3840 - acc: 0.8434\n",
      "Epoch 42/100\n",
      "8000/8000 [==============================] - 0s 55us/sample - loss: 0.3822 - acc: 0.8455\n",
      "Epoch 43/100\n",
      "8000/8000 [==============================] - 0s 59us/sample - loss: 0.3794 - acc: 0.8464\n",
      "Epoch 44/100\n",
      "8000/8000 [==============================] - 0s 55us/sample - loss: 0.3772 - acc: 0.8470\n",
      "Epoch 45/100\n",
      "8000/8000 [==============================] - 0s 53us/sample - loss: 0.3746 - acc: 0.8459\n",
      "Epoch 46/100\n",
      "8000/8000 [==============================] - 0s 55us/sample - loss: 0.3723 - acc: 0.8487\n",
      "Epoch 47/100\n",
      "8000/8000 [==============================] - 0s 56us/sample - loss: 0.3694 - acc: 0.8490\n",
      "Epoch 48/100\n",
      "8000/8000 [==============================] - 0s 56us/sample - loss: 0.3669 - acc: 0.8516\n",
      "Epoch 49/100\n",
      "8000/8000 [==============================] - 0s 56us/sample - loss: 0.3641 - acc: 0.8510\n",
      "Epoch 50/100\n",
      "8000/8000 [==============================] - 0s 60us/sample - loss: 0.3616 - acc: 0.8536\n",
      "Epoch 51/100\n",
      "8000/8000 [==============================] - 0s 55us/sample - loss: 0.3591 - acc: 0.8534\n",
      "Epoch 52/100\n",
      "8000/8000 [==============================] - 0s 53us/sample - loss: 0.3569 - acc: 0.8571\n",
      "Epoch 53/100\n",
      "8000/8000 [==============================] - 0s 54us/sample - loss: 0.3548 - acc: 0.8575\n",
      "Epoch 54/100\n",
      "8000/8000 [==============================] - 0s 54us/sample - loss: 0.3532 - acc: 0.8584\n",
      "Epoch 55/100\n",
      "8000/8000 [==============================] - 0s 56us/sample - loss: 0.3517 - acc: 0.8579\n",
      "Epoch 56/100\n",
      "8000/8000 [==============================] - 0s 55us/sample - loss: 0.3506 - acc: 0.8593\n",
      "Epoch 57/100\n",
      "8000/8000 [==============================] - 0s 60us/sample - loss: 0.3494 - acc: 0.8602\n",
      "Epoch 58/100\n",
      "8000/8000 [==============================] - 0s 54us/sample - loss: 0.3480 - acc: 0.8612\n",
      "Epoch 59/100\n",
      "8000/8000 [==============================] - 0s 51us/sample - loss: 0.3476 - acc: 0.8605\n",
      "Epoch 60/100\n",
      "8000/8000 [==============================] - 0s 57us/sample - loss: 0.3462 - acc: 0.8627\n",
      "Epoch 61/100\n",
      "8000/8000 [==============================] - 0s 55us/sample - loss: 0.3455 - acc: 0.8616\n",
      "Epoch 62/100\n",
      "8000/8000 [==============================] - 0s 58us/sample - loss: 0.3446 - acc: 0.8631\n",
      "Epoch 63/100\n",
      "8000/8000 [==============================] - 0s 57us/sample - loss: 0.3442 - acc: 0.8609\n",
      "Epoch 64/100\n",
      "8000/8000 [==============================] - 1s 69us/sample - loss: 0.3431 - acc: 0.8625\n",
      "Epoch 65/100\n",
      "8000/8000 [==============================] - 0s 55us/sample - loss: 0.3432 - acc: 0.8625\n",
      "Epoch 66/100\n",
      "8000/8000 [==============================] - 0s 56us/sample - loss: 0.3425 - acc: 0.8616\n",
      "Epoch 67/100\n",
      "8000/8000 [==============================] - 0s 58us/sample - loss: 0.3415 - acc: 0.8624\n",
      "Epoch 68/100\n",
      "8000/8000 [==============================] - 0s 55us/sample - loss: 0.3415 - acc: 0.8621\n",
      "Epoch 69/100\n",
      "8000/8000 [==============================] - 0s 54us/sample - loss: 0.3412 - acc: 0.8616\n",
      "Epoch 70/100\n",
      "8000/8000 [==============================] - 0s 52us/sample - loss: 0.3405 - acc: 0.8614\n",
      "Epoch 71/100\n",
      "8000/8000 [==============================] - 0s 59us/sample - loss: 0.3405 - acc: 0.8611\n",
      "Epoch 72/100\n",
      "8000/8000 [==============================] - 0s 60us/sample - loss: 0.3404 - acc: 0.8612\n",
      "Epoch 73/100\n",
      "8000/8000 [==============================] - 0s 56us/sample - loss: 0.3399 - acc: 0.8609\n",
      "Epoch 74/100\n",
      "8000/8000 [==============================] - 0s 57us/sample - loss: 0.3396 - acc: 0.8619\n",
      "Epoch 75/100\n",
      "8000/8000 [==============================] - 0s 55us/sample - loss: 0.3396 - acc: 0.8620\n",
      "Epoch 76/100\n",
      "8000/8000 [==============================] - 0s 51us/sample - loss: 0.3388 - acc: 0.8612\n",
      "Epoch 77/100\n",
      "8000/8000 [==============================] - 0s 57us/sample - loss: 0.3390 - acc: 0.8621\n",
      "Epoch 78/100\n",
      "8000/8000 [==============================] - 0s 56us/sample - loss: 0.3386 - acc: 0.8624\n",
      "Epoch 79/100\n",
      "8000/8000 [==============================] - 0s 54us/sample - loss: 0.3383 - acc: 0.8626\n",
      "Epoch 80/100\n",
      "8000/8000 [==============================] - 0s 56us/sample - loss: 0.3381 - acc: 0.8635\n",
      "Epoch 81/100\n",
      "8000/8000 [==============================] - 0s 55us/sample - loss: 0.3377 - acc: 0.8631\n",
      "Epoch 82/100\n",
      "8000/8000 [==============================] - 0s 58us/sample - loss: 0.3373 - acc: 0.8626\n",
      "Epoch 83/100\n",
      "8000/8000 [==============================] - 1s 64us/sample - loss: 0.3373 - acc: 0.8621\n",
      "Epoch 84/100\n",
      "8000/8000 [==============================] - 0s 60us/sample - loss: 0.3374 - acc: 0.8620\n",
      "Epoch 85/100\n",
      "8000/8000 [==============================] - 0s 58us/sample - loss: 0.3368 - acc: 0.8630\n",
      "Epoch 86/100\n",
      "8000/8000 [==============================] - 0s 56us/sample - loss: 0.3374 - acc: 0.8629\n",
      "Epoch 87/100\n",
      "8000/8000 [==============================] - ETA: 0s - loss: 0.3379 - acc: 0.862 - 0s 55us/sample - loss: 0.3371 - acc: 0.8622\n",
      "Epoch 88/100\n",
      "8000/8000 [==============================] - 0s 56us/sample - loss: 0.3371 - acc: 0.8635\n",
      "Epoch 89/100\n",
      "8000/8000 [==============================] - 1s 64us/sample - loss: 0.3368 - acc: 0.8633\n",
      "Epoch 90/100\n",
      "8000/8000 [==============================] - 1s 68us/sample - loss: 0.3368 - acc: 0.8633\n",
      "Epoch 91/100\n",
      "8000/8000 [==============================] - 0s 58us/sample - loss: 0.3368 - acc: 0.8635\n",
      "Epoch 92/100\n",
      "8000/8000 [==============================] - 0s 60us/sample - loss: 0.3362 - acc: 0.8649\n",
      "Epoch 93/100\n",
      "8000/8000 [==============================] - 0s 60us/sample - loss: 0.3363 - acc: 0.8629\n",
      "Epoch 94/100\n",
      "8000/8000 [==============================] - 0s 59us/sample - loss: 0.3363 - acc: 0.8619\n",
      "Epoch 95/100\n",
      "8000/8000 [==============================] - 0s 54us/sample - loss: 0.3362 - acc: 0.8646\n",
      "Epoch 96/100\n",
      "8000/8000 [==============================] - 1s 63us/sample - loss: 0.3365 - acc: 0.8636\n",
      "Epoch 97/100\n",
      "8000/8000 [==============================] - 0s 57us/sample - loss: 0.3359 - acc: 0.8633\n",
      "Epoch 98/100\n",
      "8000/8000 [==============================] - 0s 56us/sample - loss: 0.3365 - acc: 0.8637\n",
      "Epoch 99/100\n",
      "8000/8000 [==============================] - 0s 54us/sample - loss: 0.3359 - acc: 0.8637\n",
      "Epoch 100/100\n",
      "8000/8000 [==============================] - 0s 60us/sample - loss: 0.3358 - acc: 0.8627\n"
     ]
    },
    {
     "data": {
      "text/plain": [
       "<tensorflow.python.keras.callbacks.History at 0x20a02ad2048>"
      ]
     },
     "execution_count": 18,
     "metadata": {},
     "output_type": "execute_result"
    }
   ],
   "source": [
    "ann.fit(X_train, y_train, batch_size = 32, epochs = 100)"
   ]
  },
  {
   "cell_type": "markdown",
   "metadata": {
    "colab_type": "text",
    "id": "tJj5k2MxZga3"
   },
   "source": [
    "## Part 4 - Making the predictions and evaluating the model"
   ]
  },
  {
   "cell_type": "markdown",
   "metadata": {
    "colab_type": "text",
    "id": "u7yx47jPZt11"
   },
   "source": [
    "### Predicting the Test set results"
   ]
  },
  {
   "cell_type": "code",
   "execution_count": 19,
   "metadata": {
    "colab": {
     "base_uri": "https://localhost:8080/",
     "height": 134
    },
    "colab_type": "code",
    "executionInfo": {
     "elapsed": 31748,
     "status": "ok",
     "timestamp": 1586428405581,
     "user": {
      "displayName": "Hadelin de Ponteves",
      "photoUrl": "https://lh3.googleusercontent.com/a-/AOh14GhEuXdT7eQweUmRPW8_laJuPggSK6hfvpl5a6WBaA=s64",
      "userId": "15047218817161520419"
     },
     "user_tz": -240
    },
    "id": "nIyEeQdRZwgs",
    "outputId": "a0f4d9ad-9a29-41dc-b101-9e7216d74dc0"
   },
   "outputs": [
    {
     "name": "stdout",
     "output_type": "stream",
     "text": [
      "[[0 0]\n",
      " [0 1]\n",
      " [0 0]\n",
      " ...\n",
      " [0 0]\n",
      " [0 0]\n",
      " [0 0]]\n"
     ]
    }
   ],
   "source": [
    "y_pred = ann.predict(X_test)\n",
    "y_pred = (y_pred > 0.5)\n",
    "print(np.concatenate((y_pred.reshape(len(y_pred),1), y_test.reshape(len(y_test),1)),1))"
   ]
  },
  {
   "cell_type": "markdown",
   "metadata": {
    "colab_type": "text",
    "id": "o0oyfLWoaEGw"
   },
   "source": [
    "### Making the Confusion Matrix"
   ]
  },
  {
   "cell_type": "code",
   "execution_count": 20,
   "metadata": {
    "colab": {
     "base_uri": "https://localhost:8080/",
     "height": 50
    },
    "colab_type": "code",
    "executionInfo": {
     "elapsed": 31746,
     "status": "ok",
     "timestamp": 1586428405581,
     "user": {
      "displayName": "Hadelin de Ponteves",
      "photoUrl": "https://lh3.googleusercontent.com/a-/AOh14GhEuXdT7eQweUmRPW8_laJuPggSK6hfvpl5a6WBaA=s64",
      "userId": "15047218817161520419"
     },
     "user_tz": -240
    },
    "id": "ci6K_r6LaF6P",
    "outputId": "09bd315f-7091-457f-b222-ce3998de57a5"
   },
   "outputs": [
    {
     "name": "stdout",
     "output_type": "stream",
     "text": [
      "[[1517   78]\n",
      " [ 199  206]]\n"
     ]
    }
   ],
   "source": [
    "from sklearn.metrics import confusion_matrix\n",
    "cm = confusion_matrix(y_test, y_pred)\n",
    "print(cm)"
   ]
  }
 ],
 "metadata": {
  "colab": {
   "authorship_tag": "ABX9TyMwbl0jJoa05wuIU59y39H3",
   "collapsed_sections": [],
   "name": "Artificial Neural Network",
   "provenance": []
  },
  "kernelspec": {
   "display_name": "Python 3",
   "language": "python",
   "name": "python3"
  },
  "language_info": {
   "codemirror_mode": {
    "name": "ipython",
    "version": 3
   },
   "file_extension": ".py",
   "mimetype": "text/x-python",
   "name": "python",
   "nbconvert_exporter": "python",
   "pygments_lexer": "ipython3",
   "version": "3.7.6"
  }
 },
 "nbformat": 4,
 "nbformat_minor": 4
}
